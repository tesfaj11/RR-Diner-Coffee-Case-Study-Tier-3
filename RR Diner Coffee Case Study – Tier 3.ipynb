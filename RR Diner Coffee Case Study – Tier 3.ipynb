{
 "cells": [
  {
   "cell_type": "code",
   "execution_count": 2,
   "id": "ae92e153-e98b-4292-929e-7c365b715cef",
   "metadata": {},
   "outputs": [],
   "source": [
    "import pandas as pd\n",
    "from sklearn.model_selection import train_test_split\n",
    "from sklearn.tree import DecisionTreeClassifier\n",
    "from sklearn.ensemble import RandomForestClassifier\n",
    "from sklearn.metrics import accuracy_score, confusion_matrix, classification_report"
   ]
  },
  {
   "cell_type": "code",
   "execution_count": 4,
   "id": "7f7b80a1-b542-40e9-b278-46605d1cbb08",
   "metadata": {},
   "outputs": [],
   "source": [
    "df = pd.read_csv(\"RRDinerCoffeeData.csv\")"
   ]
  },
  {
   "cell_type": "code",
   "execution_count": 6,
   "id": "8f010495-1fef-45b0-a3dd-f64cd7324bde",
   "metadata": {},
   "outputs": [],
   "source": [
    "df_encoded = pd.get_dummies(df, drop_first=True)"
   ]
  },
  {
   "cell_type": "code",
   "execution_count": 8,
   "id": "4b6838c9-5065-4d71-8adc-fc2f766a0266",
   "metadata": {},
   "outputs": [],
   "source": [
    "df_cleaned = df_encoded.dropna(subset=[\"Decision\"])"
   ]
  },
  {
   "cell_type": "code",
   "execution_count": 10,
   "id": "a2573e0b-a402-4784-809e-eb2acce59576",
   "metadata": {},
   "outputs": [],
   "source": [
    "X = df_cleaned.drop(\"Decision\", axis=1)\n",
    "y = df_cleaned[\"Decision\"]"
   ]
  },
  {
   "cell_type": "code",
   "execution_count": 12,
   "id": "e9274e76-b7b1-4b16-a318-30af2a07e8b1",
   "metadata": {},
   "outputs": [],
   "source": [
    "X_train, X_test, y_train, y_test = train_test_split(X, y, test_size=0.3, random_state=42)"
   ]
  },
  {
   "cell_type": "code",
   "execution_count": 14,
   "id": "d7a41c56-b6aa-41f4-951e-a1e28b2c0550",
   "metadata": {},
   "outputs": [],
   "source": [
    "dt_gini_full = DecisionTreeClassifier(criterion=\"gini\", random_state=42)\n",
    "dt_gini_full.fit(X_train, y_train)\n",
    "gini_full_preds = dt_gini_full.predict(X_test)"
   ]
  },
  {
   "cell_type": "code",
   "execution_count": 16,
   "id": "bcc83f14-d514-4212-8ed8-a513bdfd115f",
   "metadata": {},
   "outputs": [],
   "source": [
    "dt_gini_depth = DecisionTreeClassifier(criterion=\"gini\", max_depth=4, random_state=42)\n",
    "dt_gini_depth.fit(X_train, y_train)\n",
    "gini_depth_preds = dt_gini_depth.predict(X_test)"
   ]
  },
  {
   "cell_type": "code",
   "execution_count": 18,
   "id": "a48b47bf-e2e6-4551-b799-2a962157e4a9",
   "metadata": {},
   "outputs": [],
   "source": [
    "dt_entropy_full = DecisionTreeClassifier(criterion=\"entropy\", random_state=42)\n",
    "dt_entropy_full.fit(X_train, y_train)\n",
    "entropy_full_preds = dt_entropy_full.predict(X_test)"
   ]
  },
  {
   "cell_type": "code",
   "execution_count": 20,
   "id": "da4c8b1a-b593-4ca2-85a3-f5ffb2358785",
   "metadata": {},
   "outputs": [],
   "source": [
    "dt_entropy_depth = DecisionTreeClassifier(criterion=\"entropy\", max_depth=4, random_state=42)\n",
    "dt_entropy_depth.fit(X_train, y_train)\n",
    "entropy_depth_preds = dt_entropy_depth.predict(X_test)"
   ]
  },
  {
   "cell_type": "code",
   "execution_count": 22,
   "id": "8a64cd5d-1d4d-47a1-a03b-69cbb0b46489",
   "metadata": {},
   "outputs": [],
   "source": [
    "rf_model = RandomForestClassifier(n_estimators=100, random_state=42)\n",
    "rf_model.fit(X_train, y_train)\n",
    "rf_preds = rf_model.predict(X_test)"
   ]
  },
  {
   "cell_type": "code",
   "execution_count": 26,
   "id": "0af04a29-8609-43ad-b64c-873f91bee5ca",
   "metadata": {},
   "outputs": [],
   "source": [
    "def evaluate_model(name, y_true, y_pred):\n",
    "    print(f\"\\nModel: {name}\")\n",
    "    print(\"Accuracy:\", accuracy_score(y_true, y_pred))\n",
    "    print(\"Confusion Matrix:\\n\", confusion_matrix(y_true, y_pred))\n",
    "    print(\"Classification Report:\\n\", classification_report(y_true, y_pred))"
   ]
  },
  {
   "cell_type": "code",
   "execution_count": 28,
   "id": "2fac828b-5ded-4b59-bb94-1d3f6b26458d",
   "metadata": {},
   "outputs": [
    {
     "name": "stdout",
     "output_type": "stream",
     "text": [
      "\n",
      "Model: Decision Tree - Gini (full)\n",
      "Accuracy: 0.965034965034965\n",
      "Confusion Matrix:\n",
      " [[44  5]\n",
      " [ 0 94]]\n",
      "Classification Report:\n",
      "               precision    recall  f1-score   support\n",
      "\n",
      "         0.0       1.00      0.90      0.95        49\n",
      "         1.0       0.95      1.00      0.97        94\n",
      "\n",
      "    accuracy                           0.97       143\n",
      "   macro avg       0.97      0.95      0.96       143\n",
      "weighted avg       0.97      0.97      0.96       143\n",
      "\n",
      "\n",
      "Model: Decision Tree - Gini (depth=4)\n",
      "Accuracy: 0.9440559440559441\n",
      "Confusion Matrix:\n",
      " [[41  8]\n",
      " [ 0 94]]\n",
      "Classification Report:\n",
      "               precision    recall  f1-score   support\n",
      "\n",
      "         0.0       1.00      0.84      0.91        49\n",
      "         1.0       0.92      1.00      0.96        94\n",
      "\n",
      "    accuracy                           0.94       143\n",
      "   macro avg       0.96      0.92      0.94       143\n",
      "weighted avg       0.95      0.94      0.94       143\n",
      "\n",
      "\n",
      "Model: Decision Tree - Entropy (full)\n",
      "Accuracy: 0.951048951048951\n",
      "Confusion Matrix:\n",
      " [[43  6]\n",
      " [ 1 93]]\n",
      "Classification Report:\n",
      "               precision    recall  f1-score   support\n",
      "\n",
      "         0.0       0.98      0.88      0.92        49\n",
      "         1.0       0.94      0.99      0.96        94\n",
      "\n",
      "    accuracy                           0.95       143\n",
      "   macro avg       0.96      0.93      0.94       143\n",
      "weighted avg       0.95      0.95      0.95       143\n",
      "\n",
      "\n",
      "Model: Decision Tree - Entropy (depth=4)\n",
      "Accuracy: 0.9440559440559441\n",
      "Confusion Matrix:\n",
      " [[41  8]\n",
      " [ 0 94]]\n",
      "Classification Report:\n",
      "               precision    recall  f1-score   support\n",
      "\n",
      "         0.0       1.00      0.84      0.91        49\n",
      "         1.0       0.92      1.00      0.96        94\n",
      "\n",
      "    accuracy                           0.94       143\n",
      "   macro avg       0.96      0.92      0.94       143\n",
      "weighted avg       0.95      0.94      0.94       143\n",
      "\n",
      "\n",
      "Model: Random Forest\n",
      "Accuracy: 0.9300699300699301\n",
      "Confusion Matrix:\n",
      " [[41  8]\n",
      " [ 2 92]]\n",
      "Classification Report:\n",
      "               precision    recall  f1-score   support\n",
      "\n",
      "         0.0       0.95      0.84      0.89        49\n",
      "         1.0       0.92      0.98      0.95        94\n",
      "\n",
      "    accuracy                           0.93       143\n",
      "   macro avg       0.94      0.91      0.92       143\n",
      "weighted avg       0.93      0.93      0.93       143\n",
      "\n"
     ]
    }
   ],
   "source": [
    "evaluate_model(\"Decision Tree - Gini (full)\", y_test, gini_full_preds)\n",
    "evaluate_model(\"Decision Tree - Gini (depth=4)\", y_test, gini_depth_preds)\n",
    "evaluate_model(\"Decision Tree - Entropy (full)\", y_test, entropy_full_preds)\n",
    "evaluate_model(\"Decision Tree - Entropy (depth=4)\", y_test, entropy_depth_preds)\n",
    "evaluate_model(\"Random Forest\", y_test, rf_preds)\n"
   ]
  },
  {
   "cell_type": "code",
   "execution_count": null,
   "id": "e15c284b-9d0c-4c38-b119-ab00d59c6abb",
   "metadata": {},
   "outputs": [],
   "source": []
  }
 ],
 "metadata": {
  "kernelspec": {
   "display_name": "Python [conda env:base] *",
   "language": "python",
   "name": "conda-base-py"
  },
  "language_info": {
   "codemirror_mode": {
    "name": "ipython",
    "version": 3
   },
   "file_extension": ".py",
   "mimetype": "text/x-python",
   "name": "python",
   "nbconvert_exporter": "python",
   "pygments_lexer": "ipython3",
   "version": "3.12.7"
  }
 },
 "nbformat": 4,
 "nbformat_minor": 5
}
